{
 "cells": [
  {
   "cell_type": "markdown",
   "id": "header",
   "metadata": {},
   "source": "# 使用示例 - 用户订单数据处理\n\n这是一个通用的批处理示例，展示如何使用BatchProcessor框架处理用户订单数据"
  },
  {
   "cell_type": "markdown",
   "id": "imports",
   "metadata": {},
   "source": [
    "## 1. 导入依赖"
   ]
  },
  {
   "cell_type": "code",
   "execution_count": null,
   "id": "imports-cell",
   "metadata": {},
   "outputs": [],
   "source": [
    "from batch_processor import BatchProcessor\n",
    "import pandas as pd\n",
    "import requests\n",
    "import json\n",
    "from typing import Dict, Any\n",
    "from cachetools import cached, LRUCache\n",
    "from collections import defaultdict\n",
    "\n",
    "# 创建缓存\n",
    "cache = LRUCache(maxsize=1000)\n",
    "api_cache = cached(cache)"
   ]
  },
  {
   "cell_type": "markdown",
   "id": "processor-def",
   "metadata": {},
   "source": "## 2. 实现用户订单处理器"
  },
  {
   "cell_type": "code",
   "execution_count": null,
   "id": "processor-class",
   "metadata": {},
   "outputs": [],
   "source": "class UserOrderProcessor(BatchProcessor):\n    \n    def get_data_source(self):\n        \"\"\"数据源为CSV文件\"\"\"\n        return 'orders.csv'\n    \n    def define_schema(self) -> Dict[str, list]:\n        \"\"\"定义表结构\"\"\"\n        return {\n            'control_fields': [\n                'is_processed',\n                'retry_count'\n            ],\n            'result_fields': [\n                'order_status',      # 订单状态\n                'total_amount',      # 订单总金额\n                'user_level'         # 用户等级\n            ]\n        }\n    \n    @api_cache\n    def _fetch_order_info_cached(self, order_ids_tuple):\n        \"\"\"获取订单详情 - 带缓存的内部方法\"\"\"\n        # 模拟API调用\n        api_url = \"https://api.example.com/v1/orders/batch\"\n        \n        order_ids = list(order_ids_tuple)\n        payload = json.dumps({\"order_ids\": order_ids})\n        headers = {\n            'Content-Type': 'application/json',\n            'Authorization': 'Bearer your-api-token',\n            'Accept': '*/*'\n        }\n        \n        # 模拟API响应\n        # response = requests.post(api_url, headers=headers, data=payload, timeout=30)\n        # response.raise_for_status()\n        \n        # 模拟返回数据\n        mock_data = {}\n        for order_id in order_ids:\n            mock_data[order_id] = {\n                'order_id': order_id,\n                'status': 'completed',\n                'amount': 199.99,\n                'items': [{'name': 'Product A', 'price': 199.99}]\n            }\n        \n        return mock_data\n    \n    def fetch_order_info(self, order_ids):\n        \"\"\"获取订单详情\"\"\"\n        return self._fetch_order_info_cached(tuple(order_ids))\n    \n    @api_cache\n    def _fetch_user_info_cached(self, user_ids_tuple):\n        \"\"\"获取用户信息 - 带缓存的内部方法\"\"\"\n        user_ids = list(user_ids_tuple)\n        api_url = \"https://api.example.com/v1/users/batch\"\n        \n        headers = {\n            'Content-Type': 'application/json',\n            'Authorization': 'Bearer your-api-token',\n            'Accept': '*/*'\n        }\n        \n        result = []\n        \n        # 批量处理，每批最多50个ID\n        for i in range(0, len(user_ids), 50):\n            batch_user_ids = user_ids[i:i+50]\n            \n            payload = json.dumps({\n                \"user_ids\": batch_user_ids,\n                \"fields\": [\"id\", \"level\", \"email\", \"created_at\"]\n            })\n            \n            # 模拟API调用\n            # response = requests.post(api_url, headers=headers, data=payload, timeout=30)\n            # response.raise_for_status()\n            \n            # 模拟返回数据\n            for user_id in batch_user_ids:\n                result.append({\n                    'id': user_id,\n                    'level': 'gold',\n                    'email': f'user{user_id}@example.com',\n                    'created_at': '2023-01-01'\n                })\n        \n        return result\n    \n    def fetch_user_info(self, user_ids):\n        \"\"\"获取用户信息\"\"\"\n        return self._fetch_user_info_cached(tuple(user_ids))\n    \n    def process_business_logic(self, batch_data: pd.DataFrame) -> pd.DataFrame:\n        \"\"\"处理用户订单业务逻辑\"\"\"\n        try:\n            # 1. 获取订单详情数据\n            order_info = self.fetch_order_info(batch_data['order_id'].unique().tolist())\n            \n            # 2. 提取所有相关的用户ID\n            all_user_ids = set()\n            order_id_2_user_id = {}\n            \n            for order_id, order_detail in order_info.items():\n                # 假设从订单数据中可以获取用户ID\n                user_id = f\"user_{order_id[-4:]}\"  # 模拟用户ID\n                order_id_2_user_id[order_id] = user_id\n                all_user_ids.add(user_id)\n            \n            # 3. 获取用户详细信息\n            user_data = self.fetch_user_info(list(all_user_ids))\n            user_id_2_user_info = {\n                item['id']: item for item in user_data\n            }\n            \n            # 4. 处理每一行数据\n            for idx, row in batch_data.iterrows():\n                order_id = row['order_id']\n                customer_email = row['customer_email']\n                \n                # 获取订单详情\n                order_detail = order_info.get(order_id, {})\n                order_status = order_detail.get('status', 'unknown')\n                total_amount = order_detail.get('amount', 0)\n                \n                # 获取用户信息\n                user_id = order_id_2_user_id.get(order_id, '')\n                user_info = user_id_2_user_info.get(user_id, {})\n                user_level = user_info.get('level', 'bronze')\n                \n                # 设置结果\n                batch_data.loc[idx, 'order_status'] = order_status\n                batch_data.loc[idx, 'total_amount'] = total_amount\n                batch_data.loc[idx, 'user_level'] = user_level\n                \n                print(f\"订单: {order_id}, 状态: {order_status}, 金额: {total_amount}, 用户等级: {user_level}\")\n            \n            return batch_data\n            \n        except Exception as e:\n            self.logger.error(f\"处理业务逻辑异常: {str(e)}\")\n            # 返回原始数据，结果字段设置为默认值\n            for idx in batch_data.index:\n                batch_data.loc[idx, 'order_status'] = 'error'\n                batch_data.loc[idx, 'total_amount'] = 0\n                batch_data.loc[idx, 'user_level'] = 'unknown'\n            return batch_data"
  },
  {
   "cell_type": "markdown",
   "id": "execution",
   "metadata": {},
   "source": "## 3. 执行处理\n\n### 调试模式 - 先测试少量数据"
  },
  {
   "cell_type": "markdown",
   "id": "i7s4ul46zv",
   "source": "### 生产模式 - 处理全部数据",
   "metadata": {}
  },
  {
   "cell_type": "code",
   "id": "k1u3epxzf4h",
   "source": "# 确认调试结果正确后，处理全部数据\n# print(\"开始生产模式处理...\")\n# processor = UserOrderProcessor(\n#     batch_size=100,\n#     table_name='order_table',\n#     db_name='orders.db',\n#     max_retries=3\n# )\n# processor.run()  # 不传参数，处理全部数据",
   "metadata": {},
   "execution_count": null,
   "outputs": []
  },
  {
   "cell_type": "code",
   "execution_count": null,
   "id": "run-processor",
   "metadata": {},
   "outputs": [],
   "source": "# 创建处理器实例\nprocessor = UserOrderProcessor(\n    batch_size=100,\n    table_name='order_table',\n    db_name='orders.db',\n    max_retries=3\n)\n\n# 🔧 调试模式: 只处理2个批次，用于测试业务逻辑\nprint(\"开始调试模式处理...\")\nprocessor.run(debug_batch_times=2)"
  },
  {
   "cell_type": "markdown",
   "id": "results",
   "metadata": {},
   "source": [
    "## 4. 查看处理结果"
   ]
  },
  {
   "cell_type": "code",
   "execution_count": null,
   "id": "view-stats",
   "metadata": {},
   "outputs": [],
   "source": "# 获取处理统计\nstats = processor.get_statistics()\nprint(\"处理统计:\")\nprint(f\"总记录数: {stats['total']}\")\nprint(f\"已处理: {stats['processed']}\")\nprint(f\"待处理: {stats['pending']}\")\nprint(f\"处理失败: {stats['failed']}\")\n\n# 计算处理成功率\nimport sqlite3\nconn = sqlite3.connect('orders.db')\nsuccess_stats = pd.read_sql(\"\"\"\n    SELECT \n        COUNT(*) as total_processed,\n        SUM(CASE WHEN order_status != 'error' THEN 1 ELSE 0 END) as success,\n        ROUND(SUM(CASE WHEN order_status != 'error' THEN 1 ELSE 0 END) * 100.0 / COUNT(*), 2) as success_rate\n    FROM order_table \n    WHERE is_processed = 1\n\"\"\", conn)\nconn.close()\n\nprint(f\"\\n处理结果统计:\")\nprint(f\"成功处理: {success_stats.iloc[0]['success']}\")\nprint(f\"成功率: {success_stats.iloc[0]['success_rate']}%\")"
  },
  {
   "cell_type": "code",
   "execution_count": null,
   "id": "view-sample",
   "metadata": {},
   "outputs": [],
   "source": "# 查看不同状态的订单样本\nconn = sqlite3.connect('orders.db')\n\nprint(\"已完成订单样本:\")\ncompleted_sample = pd.read_sql(\"\"\"\n    SELECT order_id, customer_email, order_status, total_amount, user_level\n    FROM order_table \n    WHERE is_processed = 1 AND order_status = 'completed' \n    LIMIT 5\n\"\"\", conn)\ndisplay(completed_sample)\n\nprint(\"\\n用户等级分布:\")\nlevel_distribution = pd.read_sql(\"\"\"\n    SELECT user_level, COUNT(*) as count\n    FROM order_table \n    WHERE is_processed = 1\n    GROUP BY user_level\n    ORDER BY count DESC\n\"\"\", conn)\ndisplay(level_distribution)\n\nconn.close()"
  },
  {
   "cell_type": "markdown",
   "id": "export",
   "metadata": {},
   "source": [
    "## 5. 导出结果"
   ]
  },
  {
   "cell_type": "code",
   "execution_count": null,
   "id": "export-results",
   "metadata": {},
   "outputs": [],
   "source": "# 导出所有处理结果\nprocessor.export_results('order_results.csv', only_processed=True)\n\n# 也可以导出特定状态的订单\nconn = sqlite3.connect('orders.db')\n\n# 导出已完成的订单\ncompleted_df = pd.read_sql(\"\"\"\n    SELECT * FROM order_table \n    WHERE is_processed = 1 AND order_status = 'completed'\n\"\"\", conn)\ncompleted_df.to_csv('completed_orders.csv', index=False, sep='\\t')\n\n# 导出高级用户的订单\npremium_df = pd.read_sql(\"\"\"\n    SELECT * FROM order_table \n    WHERE is_processed = 1 AND user_level IN ('gold', 'platinum')\n\"\"\", conn)\npremium_df.to_csv('premium_user_orders.csv', index=False, sep='\\t')\n\nconn.close()\n\nprint(f\"结果导出完成:\")\nprint(f\"- 全部结果: order_results.csv\")\nprint(f\"- 已完成订单: completed_orders.csv ({len(completed_df)}条)\")\nprint(f\"- 高级用户订单: premium_user_orders.csv ({len(premium_df)}条)\")"
  }
 ],
 "metadata": {
  "kernelspec": {
   "display_name": "Python 3",
   "language": "python",
   "name": "python3"
  },
  "language_info": {
   "codemirror_mode": {
    "name": "ipython",
    "version": 3
   },
   "file_extension": ".py",
   "mimetype": "text/x-python",
   "name": "python",
   "nbconvert_exporter": "python",
   "pygments_lexer": "ipython3",
   "version": "3.8.0"
  }
 },
 "nbformat": 4,
 "nbformat_minor": 5
}